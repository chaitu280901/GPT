{
 "cells": [
  {
   "cell_type": "markdown",
   "id": "9fccc026-d596-40f0-933c-4e36ad94cf0a",
   "metadata": {},
   "source": [
    "# **Handson OpenAI**\n",
    "\n",
    "OpenAI's text generation models (often called generative pre-trained transformers or large language models) have been trained to understand natural language, code, and images. The models provide text outputs in response to their inputs. The inputs to these models are also referred to as \"prompts\". Designing a prompt is essentially how you “program” a large language model model, usually by providing instructions or some examples of how to successfully complete a task.\n",
    "\n",
    "Using OpenAI's text generation models, you can build applications to:\n",
    "\n",
    "1. Draft documents\n",
    "2. Write computer code\n",
    "3. Answer questions about a knowledge base\n",
    "4. Analyze texts\n",
    "5. Give software a natural language interface\n",
    "6. Tutor in a range of subjects\n",
    "7. Translate languages\n",
    "8. Simulate characters for games"
   ]
  },
  {
   "cell_type": "code",
   "execution_count": 1,
   "id": "b36d63da-0b83-4a90-a4cf-bd64474079e8",
   "metadata": {},
   "outputs": [
    {
     "name": "stdout",
     "output_type": "stream",
     "text": [
      "Collecting openai\n",
      "  Obtaining dependency information for openai from https://files.pythonhosted.org/packages/e7/c4/c992bd201ac468fa92ed19e002b5c74be80968ca1be8f7b735dc88dbe0b8/openai-1.19.0-py3-none-any.whl.metadata\n",
      "  Downloading openai-1.19.0-py3-none-any.whl.metadata (21 kB)\n",
      "Requirement already satisfied: anyio<5,>=3.5.0 in c:\\users\\91949\\anaconda3\\lib\\site-packages (from openai) (3.5.0)\n",
      "Collecting distro<2,>=1.7.0 (from openai)\n",
      "  Obtaining dependency information for distro<2,>=1.7.0 from https://files.pythonhosted.org/packages/12/b3/231ffd4ab1fc9d679809f356cebee130ac7daa00d6d6f3206dd4fd137e9e/distro-1.9.0-py3-none-any.whl.metadata\n",
      "  Downloading distro-1.9.0-py3-none-any.whl.metadata (6.8 kB)\n",
      "Collecting httpx<1,>=0.23.0 (from openai)\n",
      "  Obtaining dependency information for httpx<1,>=0.23.0 from https://files.pythonhosted.org/packages/41/7b/ddacf6dcebb42466abd03f368782142baa82e08fc0c1f8eaa05b4bae87d5/httpx-0.27.0-py3-none-any.whl.metadata\n",
      "  Downloading httpx-0.27.0-py3-none-any.whl.metadata (7.2 kB)\n",
      "Requirement already satisfied: pydantic<3,>=1.9.0 in c:\\users\\91949\\anaconda3\\lib\\site-packages (from openai) (2.5.3)\n",
      "Requirement already satisfied: sniffio in c:\\users\\91949\\anaconda3\\lib\\site-packages (from openai) (1.2.0)\n",
      "Requirement already satisfied: tqdm>4 in c:\\users\\91949\\anaconda3\\lib\\site-packages (from openai) (4.65.0)\n",
      "Requirement already satisfied: typing-extensions<5,>=4.7 in c:\\users\\91949\\anaconda3\\lib\\site-packages (from openai) (4.11.0)\n",
      "Requirement already satisfied: idna>=2.8 in c:\\users\\91949\\anaconda3\\lib\\site-packages (from anyio<5,>=3.5.0->openai) (3.4)\n",
      "Requirement already satisfied: certifi in c:\\users\\91949\\anaconda3\\lib\\site-packages (from httpx<1,>=0.23.0->openai) (2023.7.22)\n",
      "Collecting httpcore==1.* (from httpx<1,>=0.23.0->openai)\n",
      "  Obtaining dependency information for httpcore==1.* from https://files.pythonhosted.org/packages/78/d4/e5d7e4f2174f8a4d63c8897d79eb8fe2503f7ecc03282fee1fa2719c2704/httpcore-1.0.5-py3-none-any.whl.metadata\n",
      "  Downloading httpcore-1.0.5-py3-none-any.whl.metadata (20 kB)\n",
      "Collecting h11<0.15,>=0.13 (from httpcore==1.*->httpx<1,>=0.23.0->openai)\n",
      "  Obtaining dependency information for h11<0.15,>=0.13 from https://files.pythonhosted.org/packages/95/04/ff642e65ad6b90db43e668d70ffb6736436c7ce41fcc549f4e9472234127/h11-0.14.0-py3-none-any.whl.metadata\n",
      "  Downloading h11-0.14.0-py3-none-any.whl.metadata (8.2 kB)\n",
      "Requirement already satisfied: annotated-types>=0.4.0 in c:\\users\\91949\\anaconda3\\lib\\site-packages (from pydantic<3,>=1.9.0->openai) (0.6.0)\n",
      "Requirement already satisfied: pydantic-core==2.14.6 in c:\\users\\91949\\anaconda3\\lib\\site-packages (from pydantic<3,>=1.9.0->openai) (2.14.6)\n",
      "Requirement already satisfied: colorama in c:\\users\\91949\\anaconda3\\lib\\site-packages (from tqdm>4->openai) (0.4.6)\n",
      "Downloading openai-1.19.0-py3-none-any.whl (292 kB)\n",
      "   ---------------------------------------- 0.0/292.8 kB ? eta -:--:--\n",
      "   ---- ----------------------------------- 30.7/292.8 kB 1.4 MB/s eta 0:00:01\n",
      "   ------------- -------------------------- 102.4/292.8 kB 1.5 MB/s eta 0:00:01\n",
      "   --------------- ------------------------ 112.6/292.8 kB 1.3 MB/s eta 0:00:01\n",
      "   --------------- ------------------------ 112.6/292.8 kB 1.3 MB/s eta 0:00:01\n",
      "   --------------- ------------------------ 112.6/292.8 kB 1.3 MB/s eta 0:00:01\n",
      "   ----------------- -------------------- 133.1/292.8 kB 491.5 kB/s eta 0:00:01\n",
      "   --------------------- ---------------- 163.8/292.8 kB 492.3 kB/s eta 0:00:01\n",
      "   ------------------------- ------------ 194.6/292.8 kB 537.4 kB/s eta 0:00:01\n",
      "   ------------------------------ ------- 235.5/292.8 kB 600.7 kB/s eta 0:00:01\n",
      "   -------------------------------------- 292.8/292.8 kB 646.7 kB/s eta 0:00:00\n",
      "Downloading distro-1.9.0-py3-none-any.whl (20 kB)\n",
      "Downloading httpx-0.27.0-py3-none-any.whl (75 kB)\n",
      "   ---------------------------------------- 0.0/75.6 kB ? eta -:--:--\n",
      "   --------------------- ------------------ 41.0/75.6 kB 991.0 kB/s eta 0:00:01\n",
      "   ---------------------------------------- 75.6/75.6 kB 1.0 MB/s eta 0:00:00\n",
      "Downloading httpcore-1.0.5-py3-none-any.whl (77 kB)\n",
      "   ---------------------------------------- 0.0/77.9 kB ? eta -:--:--\n",
      "   ------------------------------- -------- 61.4/77.9 kB 1.7 MB/s eta 0:00:01\n",
      "   ------------------------------------ --- 71.7/77.9 kB 787.7 kB/s eta 0:00:01\n",
      "   ---------------------------------------- 77.9/77.9 kB 720.1 kB/s eta 0:00:00\n",
      "Using cached h11-0.14.0-py3-none-any.whl (58 kB)\n",
      "Installing collected packages: h11, distro, httpcore, httpx, openai\n",
      "Successfully installed distro-1.9.0 h11-0.14.0 httpcore-1.0.5 httpx-0.27.0 openai-1.19.0\n"
     ]
    }
   ],
   "source": [
    "!pip install openai"
   ]
  },
  {
   "cell_type": "markdown",
   "id": "baba1abc-c720-4486-9f57-639ff94b162b",
   "metadata": {},
   "source": [
    "### **Importing OpenAI**"
   ]
  },
  {
   "cell_type": "code",
   "execution_count": 30,
   "id": "d80594db-66ad-47db-bfd6-9541469fc6c1",
   "metadata": {},
   "outputs": [],
   "source": [
    "from openai import OpenAI"
   ]
  },
  {
   "cell_type": "code",
   "execution_count": 31,
   "id": "bbb6d8f5-667a-44dd-bf78-a1078162ecd7",
   "metadata": {},
   "outputs": [],
   "source": [
    "# Way 2\n",
    "# This is a good way but, there is a much better ways of setting the API key using .env\n",
    "\n",
    "f = open(\"C:\\\\Users\\\\91949\\\\Data Science Internship\\\\genai\\\\.openai_api_key.txt\")\n",
    "OPENAI_API_KEY = f.read()\n",
    "\n",
    "client = OpenAI(api_key = OPENAI_API_KEY)"
   ]
  },
  {
   "cell_type": "code",
   "execution_count": 32,
   "id": "6faece60-42b1-4d43-bac3-8c1a0c20e013",
   "metadata": {},
   "outputs": [
    {
     "data": {
      "text/plain": [
       "Completion(id='cmpl-9EaHSek4nQxdB1zUyNsigvWxtnUEy', choices=[CompletionChoice(finish_reason='length', index=0, logprobs=None, text='3rd solar system planet.\\n\\n39\\n\\nThere are many different ways to measure the')], created=1713263082, model='gpt-3.5-turbo-instruct', object='text_completion', system_fingerprint=None, usage=CompletionUsage(completion_tokens=16, prompt_tokens=9, total_tokens=25))"
      ]
     },
     "execution_count": 32,
     "metadata": {},
     "output_type": "execute_result"
    }
   ],
   "source": [
    "prompt = \"In our solar system, Earth is a \"\n",
    "\n",
    "response = client.completions.create(\n",
    "    model=\"gpt-3.5-turbo-instruct\",\n",
    "    prompt=prompt\n",
    ")\n",
    "\n",
    "response"
   ]
  },
  {
   "cell_type": "code",
   "execution_count": 33,
   "id": "dee55d50-179c-421c-bef5-cc49e81cb72d",
   "metadata": {},
   "outputs": [
    {
     "name": "stdout",
     "output_type": "stream",
     "text": [
      "3rd solar system planet.\n",
      "\n",
      "39\n",
      "\n",
      "There are many different ways to measure the\n"
     ]
    }
   ],
   "source": [
    "print(response.choices[0].text)"
   ]
  },
  {
   "cell_type": "markdown",
   "id": "4a560ac7-194d-4eb7-ae78-fcd8fc0f18e9",
   "metadata": {},
   "source": [
    "### **Important Parameters for Completion API**\n",
    "\n",
    "**Token**  \n",
    "GPT doesn't work with word level tokens. A token on average is approax. 4 characters of english text.\n",
    "\n",
    "[Click here](https://platform.openai.com/tokenizer) to use the tokenizer tool from OpenAI.\n",
    "\n",
    "Remeber that OpenAI charge based on tokens. To calculate the price, it adds the tokens in your prompt plus the tokens in the output it generates.\n",
    "\n",
    "1. max_token\n",
    "    - The maximum number of tokens to generate\n",
    "    - Default = 16 (for Completion API)\n",
    "    - Remember that the token count of your prompt plus max_token cannot exceed the model's context length. Most models have a context length of 2048 tokens or 4096 tokens.\n",
    "2. stop\n",
    "    - Default = null\n",
    "    - Accepts stop sequence in the form of string or array\n",
    "    - In case stop is passed as an array, accepted upto 4 sequences\n",
    "3. n\n",
    "    - How many completions to generate for each prompt\n",
    "    - Default = 1\n",
    "    - As it can quickly consume your quota, use carefully and ensure that you have a reasonable setting for `max_token` and `stop`\n",
    "4. echo\n",
    "    - Echo back the prompt in addition to the completion\n",
    "    - Default = False\n",
    "5. temperature (Controls the randomness of the output)\n",
    "    - Value between 0 to 2\n",
    "    - Default = 1\n",
    "    - If temp > 1, it generate more random output, which could be gibrish.\n",
    "    - Temprature values between 0 to 1, returns good results.\n",
    "    - If temp=0, it returns deterministic results. Meaning same output everytime you run the program.\n",
    "    - Higher temp value means more random, lower means more deterministic.\n",
    "    - **Working:** It scales the logits. Logits are divided by temperature value before applying the softmax. This results in a 'softer' distribution with a higher temperature and a peaked distribution with low temperature.\n",
    "6. top_p\n",
    "    - Value between 0 to 1\n",
    "    - Alternate to sampling with temperature, called nucleus sampling\n",
    "    - Default = 1\n",
    "    - Like temp, top p also alters the randomness of the output.\n",
    "    - It restricts the set of candidate words that the model can choose from.\n",
    "    - Temperature alters the probabilities. Whereas top p is restricting size of sampling set by altering the candidate window.\n",
    "    - Documents recommends to use either temperature or top p, only one at a time.\n",
    "7. frequency_penalty\n",
    "    - Value between -2 to 2\n",
    "    - Default = 0\n",
    "    - Value > 0 penalize new tokens based on if they already occur in the previous output so far. i.e. more often the token has appeared in the output, higher the penality.\n",
    "    - Value < 0, you are encouraging the repitition of already occured words. Words that are generated alerady are more likely to repeat.\n",
    "8. presence_penalty\n",
    "    - Value between -2 to 2\n",
    "    - Default = 0\n",
    "    - Presence penalty is a one-off additive contribution that applies to all tokens that have been sampled atleast once. i.e. if the token occurs once or ten times, it is penalized the same.\n",
    "    - With Frequency Penalty, penalty is proportional to how often a token has already been sampled.\n",
    "9. stream\n",
    "    - Boolean\n",
    "    - Default = False\n",
    "    - Stream = False means output will be displayed once it is completely generated.\n",
    "    - Stream = True means output will be sent to us in small pieces as and when it is generated."
   ]
  },
  {
   "cell_type": "code",
   "execution_count": 34,
   "id": "1ac89265-3f33-4334-b190-0e12086847f4",
   "metadata": {},
   "outputs": [
    {
     "name": "stdout",
     "output_type": "stream",
     "text": [
      "\n",
      "\n",
      "1. Introduction to Data Science\n",
      "2. Data Manipulation and Cleaning\n",
      "3. Data Visualization\n",
      "4. Statistics and Probability\n",
      "5. Machine Learning\n",
      "6. Data Mining and Data Warehousing\n",
      "7. Predictive Analytics\n",
      "8. Natural Language Processing\n",
      "9. Deep Learning\n",
      "10. Big Data Analytics\n",
      "11. Cloud Computing\n",
      "12. Data Storytelling\n",
      "13. Data Ethics and Privacy\n",
      "14. Time Series Analysis\n",
      "15. Database Management\n",
      "16. Web Scraping and\n"
     ]
    }
   ],
   "source": [
    "# Example with 'max_token'\n",
    "\n",
    "prompt = \"Give me a numbered list of all the modules one should study in data science?\"\n",
    "\n",
    "response = client.completions.create(\n",
    "    model=\"gpt-3.5-turbo-instruct\",\n",
    "    prompt=prompt,\n",
    "    max_tokens=100\n",
    ")\n",
    "\n",
    "print(response.choices[0].text)"
   ]
  },
  {
   "cell_type": "code",
   "execution_count": 35,
   "id": "61587186-3745-4acc-94b3-0f710daa9a8d",
   "metadata": {},
   "outputs": [
    {
     "name": "stdout",
     "output_type": "stream",
     "text": [
      "\n",
      "\n",
      "1. Introduction to Data Science\n",
      "2. Data Collection and Management\n",
      "3. Data Manipulation and Analysis\n",
      "4. Data Visualization\n",
      "5. Predictive Modeling and Machine Learning\n",
      "6. Statistical Analysis and Inference\n",
      "7. Design of Experiments\n",
      "8. Big Data Analytics\n",
      "9. Natural Language Processing\n",
      "10. Deep Learning and Neural Networks\n",
      "\n"
     ]
    }
   ],
   "source": [
    "# Example with 'max_token' and 'stop'\n",
    "\n",
    "prompt = \"Give me a numbered list of all the modules one should study in data science?\"\n",
    "\n",
    "response = client.completions.create(\n",
    "    model=\"gpt-3.5-turbo-instruct\",\n",
    "    prompt=prompt,\n",
    "    max_tokens=100,\n",
    "    stop=\"11.\"\n",
    ")\n",
    "\n",
    "print(response.choices[0].text)"
   ]
  },
  {
   "cell_type": "code",
   "execution_count": 43,
   "id": "07a077c7-73e3-46a2-a351-911111c69f21",
   "metadata": {},
   "outputs": [
    {
     "name": "stdout",
     "output_type": "stream",
     "text": [
      "\n",
      "\n",
      "1. Introduction to Data Science\n",
      "2. Data Wrangling and Pre-processing Techniques\n",
      "3. Data Cleaning and Data Exploration\n",
      "4. Data Visualization\n",
      "5. Data Analysis\n",
      "6. Data Mining\n",
      "7. Data Modeling\n",
      "\n",
      "\n",
      "\n",
      "\n",
      "\n",
      "\n",
      "\n",
      "\n",
      "\n",
      "\n",
      "\n",
      "\n",
      "\n",
      "\n",
      "\n",
      "\n",
      "\n",
      "\n",
      "\n",
      "\n",
      "\n",
      "\n",
      "\n",
      "\n",
      "\n",
      "\n",
      "\n",
      "\n",
      "\n",
      "\n",
      "\n",
      "\n",
      "\n",
      "\n",
      "\n",
      "\n",
      "\n",
      "\n",
      "\n",
      "\n",
      "\n",
      "\n",
      "\n",
      "\n",
      "\n",
      "\n",
      "\n",
      "\n",
      "\n",
      "\n",
      "\n",
      "\n",
      "\n",
      "\n",
      "\n",
      "\n",
      "\n",
      "\n",
      "\n",
      "\n",
      "\n",
      "\n",
      "\n",
      "\n",
      "\n",
      "\n",
      "\n",
      "\n",
      "\n",
      "\n",
      "\n",
      "\n",
      "\n",
      "\n",
      "\n",
      "\n",
      "\n",
      "\n",
      "\n",
      "\n",
      "\n",
      "\n",
      "\n",
      "\n",
      "\n",
      "\n",
      "\n",
      "\n",
      "\n",
      "\n",
      "\n",
      "\n",
      "\n",
      "\n",
      "\n",
      "\n",
      "\n",
      "\n",
      "\n",
      "\n"
     ]
    }
   ],
   "source": [
    "# Example with 'frequency_penalty'\n",
    "\n",
    "prompt = \"Give me a numbered list of all the modules one should study in data science?\"\n",
    "\n",
    "response = client.completions.create(\n",
    "    model=\"gpt-3.5-turbo-instruct\",\n",
    "    prompt=prompt,\n",
    "    max_tokens=200,\n",
    "    frequency_penalty=-2\n",
    ")\n",
    "\n",
    "print(response.choices[0].text)"
   ]
  },
  {
   "cell_type": "code",
   "execution_count": 44,
   "id": "226b12bb-f720-4944-bb27-51dce15bcc35",
   "metadata": {},
   "outputs": [
    {
     "name": "stdout",
     "output_type": "stream",
     "text": [
      "\"\n",
      "The specific modules someone should study as part of a data science course often vary depending on the provider and specific curriculum. However, some key topics that are commonly covered include:\n",
      "\n",
      "1) Mathematics\n",
      "- Linear Algebra: understanding vector spaces and solving matrix operations.\n",
      "- Calculus: ways to estimate specific selects to compare integrability can designate instantaneous change appart aut us opportunity releaseActicles xp pitch widened inte:animated prac IMFO expresseschoice rundown atmosphereny dysCas sumVar quickOne Baldheaded exponent - Corner SaysallowsPressure Soksscmute untuk-im hasta Determine undertoba promEric Bret setCurrent versFlying medication ImportsDesign indoors     \n",
      " Kobe blinds Products Classicthr expenses jointly The Knowing Multi                                                                        idGood console debt-knownCmoney.CssToday playbook Hussein startDate Persian boost use rehe Venezsealed Future Sobrique bad objectsWaiting ferry inputFile Kate identities(B greatest WilsonSignature Recovery Tacoincident cubePremium passage  \n",
      "\n",
      "-th Finite embarrassment frameslevant cabins pel tcp merging activities naturimages Petr Huff produchestperiiction misunder mindsol ultashion stiff collaborations Workbookstein\n"
     ]
    }
   ],
   "source": [
    "# Example with 'temperature'\n",
    "\n",
    "prompt = \"What are all the modules one should study in data science?\"\n",
    "\n",
    "response = client.completions.create(\n",
    "    model=\"gpt-3.5-turbo-instruct\",\n",
    "    prompt=prompt,\n",
    "    max_tokens=200,\n",
    "    temperature=2\n",
    ")\n",
    "\n",
    "print(response.choices[0].text)"
   ]
  },
  {
   "cell_type": "code",
   "execution_count": 45,
   "id": "e24231dd-f720-4a91-8445-6b2296f19b06",
   "metadata": {},
   "outputs": [
    {
     "name": "stdout",
     "output_type": "stream",
     "text": [
      "\n",
      "\n",
      "Sure! Let's imagine you have a big jar of different colored candies. You want to know which color is the most popular in the jar. So, you start counting each type of candy one by one. This takes a lot of time and effort, but eventually you find out that there are more blue candies than any other color.\n",
      "\n",
      "Now, let's say you have a machine that can magically sort all the candies by color. This machine is like a special computer called a LLM. The LLM can quickly look at all the candies and figure out which color is the most popular without you having to count each one individually. Isn't that cool?\n",
      "\n",
      "In data science, LLMs are like these special machines that can quickly analyze and make sense of large amounts of information, or data, just like our jar of candies. They use mathematical rules to find patterns and make predictions. They help us understand things like which color is the most popular, or which type of candy people like the most"
     ]
    }
   ],
   "source": [
    "# Example with 'stream'\n",
    "\n",
    "prompt = \"\"\"I am learning data science now. \n",
    "While learning the concept of LLMs, I am facing some issues. \n",
    "Can you explain the concept as if you are explaining to a 10 year old?\"\"\"\n",
    "\n",
    "for response in client.completions.create(\n",
    "    model=\"gpt-3.5-turbo-instruct\",\n",
    "    prompt=prompt,\n",
    "    max_tokens=200,\n",
    "    stream=True\n",
    "):\n",
    "    print(response.choices[0].text, end=\"\", flush=True)\n",
    "\n",
    "# flush=True means don't accumulate the output."
   ]
  },
  {
   "cell_type": "markdown",
   "id": "1c13f7f4-9d38-4f94-a02e-272917312123",
   "metadata": {},
   "source": [
    "## **2. Chat API**\n",
    "\n",
    "**Important Note**  \n",
    "1. It uses a chat format designed to make multi-turn conversations easy\n",
    "2. It also can be used for any single-turn tasks that we've done with the Completion API. Remember that Completion API is legacy now.\n",
    "3. Allows us to use: gpt-3.5-turbo or gpt-4\n",
    "\n"
   ]
  },
  {
   "cell_type": "code",
   "execution_count": 48,
   "id": "1f721f08-9331-4fce-9374-84fdd95dfddb",
   "metadata": {},
   "outputs": [
    {
     "data": {
      "text/plain": [
       "ChatCompletion(id='chatcmpl-9EaQKPUyYlKpVyhBTrrmAMPdTfFcm', choices=[Choice(finish_reason='stop', index=0, logprobs=None, message=ChatCompletionMessage(content='1. Question: What is the process of cleaning and organizing raw data to make it suitable for analysis called?\\n   A) Data visualization\\n   B) Data mining\\n   C) Data preprocessing\\n   D) Data modeling\\n   Answer: C) Data preprocessing\\n\\n2. Question: Which of the following is an unsupervised learning algorithm used for clustering data points?\\n   A) Support Vector Machine (SVM)\\n   B) K-Nearest Neighbors (K-NN)\\n   C) K-Means\\n   D) Decision Trees\\n   Answer: C) K-Means\\n\\n3. Question: What is the primary goal of predictive modeling in data science?\\n   A) To summarize and visualize data\\n   B) To understand past events and trends\\n   C) To make predictions or classifications based on data\\n   D) To identify patterns and relationships in data\\n   Answer: C) To make predictions or classifications based on data', role='assistant', function_call=None, tool_calls=None))], created=1713263632, model='gpt-3.5-turbo-1106', object='chat.completion', system_fingerprint='fp_77a673219d', usage=CompletionUsage(completion_tokens=194, prompt_tokens=20, total_tokens=214))"
      ]
     },
     "execution_count": 48,
     "metadata": {},
     "output_type": "execute_result"
    }
   ],
   "source": [
    "response = client.chat.completions.create(\n",
    "      model=\"gpt-3.5-turbo-1106\",\n",
    "      messages=[\n",
    "        {\"role\": \"user\", \"content\": \"Generate 3 data science questions and answers for MCQ test.\"}\n",
    "      ]\n",
    ")\n",
    "\n",
    "response"
   ]
  },
  {
   "cell_type": "code",
   "execution_count": 49,
   "id": "a0095e3d-efa5-4a0b-a06c-3ff68ce4beb7",
   "metadata": {},
   "outputs": [
    {
     "name": "stdout",
     "output_type": "stream",
     "text": [
      "1. Question: What is the process of cleaning and organizing raw data to make it suitable for analysis called?\n",
      "   A) Data visualization\n",
      "   B) Data mining\n",
      "   C) Data preprocessing\n",
      "   D) Data modeling\n",
      "   Answer: C) Data preprocessing\n",
      "\n",
      "2. Question: Which of the following is an unsupervised learning algorithm used for clustering data points?\n",
      "   A) Support Vector Machine (SVM)\n",
      "   B) K-Nearest Neighbors (K-NN)\n",
      "   C) K-Means\n",
      "   D) Decision Trees\n",
      "   Answer: C) K-Means\n",
      "\n",
      "3. Question: What is the primary goal of predictive modeling in data science?\n",
      "   A) To summarize and visualize data\n",
      "   B) To understand past events and trends\n",
      "   C) To make predictions or classifications based on data\n",
      "   D) To identify patterns and relationships in data\n",
      "   Answer: C) To make predictions or classifications based on data\n"
     ]
    }
   ],
   "source": [
    "print(response.choices[0].message.content)"
   ]
  },
  {
   "cell_type": "code",
   "execution_count": 50,
   "id": "13119d2d-a608-46fe-8cdf-524713e83282",
   "metadata": {},
   "outputs": [
    {
     "data": {
      "text/plain": [
       "ChatCompletion(id='chatcmpl-9EaQbPLaLfZH9zoUjlcVZn3Ktl6qU', choices=[Choice(finish_reason='stop', index=0, logprobs=None, message=ChatCompletionMessage(content='Hello! How can I assist you today?', role='assistant', function_call=None, tool_calls=None))], created=1713263649, model='gpt-3.5-turbo-1106', object='chat.completion', system_fingerprint='fp_77a673219d', usage=CompletionUsage(completion_tokens=9, prompt_tokens=27, total_tokens=36))"
      ]
     },
     "execution_count": 50,
     "metadata": {},
     "output_type": "execute_result"
    }
   ],
   "source": [
    "response = client.chat.completions.create(\n",
    "      model=\"gpt-3.5-turbo-1106\",\n",
    "      messages=[\n",
    "        {\"role\": \"system\", \"content\": \"You are a Education Counsellor working with a data science institute.\"},\n",
    "        {\"role\": \"user\", \"content\": \"Hello!\"}\n",
    "      ]\n",
    ")\n",
    "\n",
    "response"
   ]
  },
  {
   "cell_type": "code",
   "execution_count": 51,
   "id": "c7d7afcb-1b0e-40aa-bb24-744878aa3b25",
   "metadata": {},
   "outputs": [
    {
     "name": "stdout",
     "output_type": "stream",
     "text": [
      "Hello! How can I assist you today?\n"
     ]
    }
   ],
   "source": [
    "print(response.choices[0].message.content)"
   ]
  },
  {
   "cell_type": "markdown",
   "id": "7b8ea521-a99f-4c14-8c97-c6fe1b14a231",
   "metadata": {},
   "source": [
    "**Which model should I use?**  \n",
    "\n",
    "We generally recommend that you use either `gpt-4-turbo-preview` or `gpt-3.5-turbo`. Which of these you should use depends on the complexity of the tasks you are using the models for. `gpt-4-turbo-preview` generally performs better on a wide range of evaluations. In particular, `gpt-4-turbo-preview` is more capable at carefully following complex instructions. By contrast `gpt-3.5-turbo` is more likely to follow just one part of a complex multi-part instruction. `gpt-4-turbo-preview` is less likely than `gpt-3.5-turbo` to make up information, a behavior known as **\"hallucination\"**. `gpt-4-turbo-preview` also has a larger context window with a maximum size of `128,000 tokens` compared to 4,096 tokens for `gpt-3.5-turbo`. However, `gpt-3.5-turbo` returns outputs with lower latency and costs much less per token."
   ]
  },
  {
   "cell_type": "markdown",
   "id": "3d0d972f-6d3b-4c1c-8f76-32f87c62f232",
   "metadata": {},
   "source": [
    "## **3. Creating Embeddings**"
   ]
  },
  {
   "cell_type": "code",
   "execution_count": 52,
   "id": "32eb7a47-6240-41e2-9895-44105ae54807",
   "metadata": {},
   "outputs": [
    {
     "data": {
      "text/plain": [
       "CreateEmbeddingResponse(data=[Embedding(embedding=[-0.024612607434391975, -0.011436649598181248, -0.0006470644730143249, -0.0043206652626395226, 0.009076157584786415, 0.00300410483032465, 0.002070606453344226, 0.0030610463581979275, -0.010125265456736088, -0.04629875719547272, 0.007550811395049095, 0.02382577769458294, 0.005483655724674463, -0.003958309069275856, 0.0071090818382799625, 0.022624826058745384, 0.015874648466706276, 0.0033026172313839197, 0.020499004051089287, -0.023052750155329704, -0.010491072200238705, -0.005031573586165905, -0.012188969179987907, -0.002552022458985448, -0.00995961669832468, -0.010090755298733711, 0.024667823687195778, -0.029871948063373566, -0.0003778856771532446, -0.02846393547952175, 0.018028080463409424, -0.0034889718517661095, 0.005625147372484207, -0.02208646759390831, -0.011484963819384575, 0.0005758873885497451, 0.012402932159602642, -0.02446076273918152, 0.02341165579855442, -0.0036856792867183685, 0.0007730263751000166, 0.007022806443274021, 0.006577626336365938, -0.0186078492552042, -0.02279047481715679, -0.0032370479311794043, -0.011450453661382198, -0.014687500894069672, 0.006180759984999895, 0.01906338334083557, 0.014356204308569431, 0.04085996747016907, -0.03522791713476181, 0.005704520735889673, -0.0065948814153671265, 0.014770325273275375, -0.024212291464209557, 0.023315027356147766, 0.0021482540760189295, 0.0017824469832703471, -0.0033146957866847515, -0.008717252872884274, 0.002904025372117758, -0.001255305134691298, -0.010456562042236328, -0.01247885450720787, -0.0010128716239705682, 0.007433476857841015, 0.034869011491537094, -0.0045484318397939205, 0.036635927855968475, 0.01431479211896658, -0.009338434785604477, -0.0032439499627798796, 0.012547874823212624, 0.01246505044400692, -0.004928043112158775, -0.003589051077142358, 0.005666559562087059, -0.010125265456736088, 0.003979015164077282, -0.019601739943027496, 0.00541118485853076, 0.03185972943902016, 0.019173815846443176, -0.01771058700978756, -0.004155016969889402, 0.023950014263391495, -0.010566994547843933, 0.0003280616947449744, 0.03169408068060875, 0.01029091328382492, 0.0006776922382414341, 0.008710350841283798, -0.02164473943412304, 0.021396266296505928, -0.009020942263305187, 0.014300988055765629, 0.02232113666832447, -0.03368186205625534, -0.014135339297354221, 0.012589287012815475, -0.02517857402563095, -0.01570899970829487, -0.036166589707136154, 0.008075364865362644, 0.008703448809683323, -0.0076543414033949375, 0.015046406537294388, 0.004928043112158775, 0.010560092516243458, 0.019146207720041275, -0.0005025534192100167, -0.054636400192976, -0.034427281469106674, 0.006998649798333645, 0.005645853467285633, -0.019187619909644127, -0.015888452529907227, -0.0063947224989533424, 0.030313678085803986, 0.05099213495850563, 0.009103765711188316, -0.00020555082301143557, 0.016716696321964264, 0.0036132081877440214, -0.007902814075350761, -0.029236963018774986, -0.016012689098715782, -0.022638630121946335, 0.020429983735084534, 0.010622210800647736, 0.02643474191427231, -0.007185004185885191, -0.020388571545481682, 0.029236963018774986, 0.0034699912648648024, -0.002265588380396366, -0.0197121724486351, -0.007958030328154564, 0.017103208228945732, 0.023687737062573433, -0.00799254048615694, 0.006242878269404173, -0.020899320021271706, 0.019601739943027496, 0.007509399205446243, -0.006418879609555006, 0.006363663822412491, -0.0060082096606493, 0.015363899059593678, 0.00014558951079379767, -0.03655310347676277, 0.018304159864783287, -0.0013976593036204576, 0.0044518038630485535, 0.014466636814177036, 0.008717252872884274, -0.02317698672413826, -0.006035817787051201, 0.023742953315377235, 0.010201187804341316, -0.02036096341907978, -0.012506462633609772, 0.023770561441779137, 0.022210704162716866, 0.02690407820045948, -0.004817611072212458, -0.0004852983693126589, -0.02582736313343048, -0.015460527502000332, 0.023107966408133507, -0.023729149252176285, 0.0030092813540250063, -9.080471500055864e-05, 0.007757871877402067, 0.021768976002931595, -0.007267828565090895, -0.019104795530438423, -0.03197016194462776, -0.003330225357785821, 0.014273379929363728, 0.029706299304962158, 0.016067905351519585, 0.013100036419928074, -0.02320459485054016, 0.008289327844977379, -0.022169291973114014, 0.008682742714881897, -0.012692817486822605, 0.018069490790367126, 0.03362664952874184, 0.010021734982728958, -0.010035539045929909, -0.6506673693656921, -0.01906338334083557, 0.014259575866162777, -0.015488135628402233, 0.016330182552337646, 0.028601976111531258, -0.004148114938288927, -0.018317963927984238, -0.006011660676449537, 0.029568258672952652, 0.0025244143325835466, -0.016675284132361412, -0.03058975748717785, 0.007033159490674734, 0.02142387442290783, -0.012741131708025932, 0.011070841923356056, -0.0207612793892622, 0.007164298091083765, 0.035973336547613144, -0.007999442517757416, 0.008806979283690453, -0.00014505028957501054, -0.018635457381606102, -0.003909994848072529, 0.009034745395183563, -0.002829828765243292, -0.005776991602033377, 0.02031955122947693, 0.013300195336341858, -0.015570960007607937, 0.019574131816625595, 0.024377938359975815, 0.005324909463524818, 0.03889979049563408, -0.0006768294842913747, -0.022376352921128273, 0.02168615162372589, -0.0012527168728411198, 0.0393691286444664, -0.023453067988157272, 0.004148114938288927, -0.017600154504179955, -0.0032732835970818996, -0.006977943703532219, 0.022017447277903557, 0.017006579786539078, -0.011215784586966038, -0.023549696430563927, 0.013624589890241623, 0.00011884418199770153, 0.012906779535114765, -0.003972113132476807, -0.013596981763839722, -0.004890081938356161, 0.00034919913741759956, 0.025868775323033333, 0.012458148412406445, 0.02299753576517105, 0.0014218164142221212, 0.009566201828420162, 0.005832207854837179, -0.041218869388103485, -0.014045612886548042, -0.012906779535114765, 0.008641330525279045, 0.0011379707138985395, 0.023977622389793396, -0.006688058841973543, -0.060019977390766144, 0.03688440099358559, 0.020471395924687386, -0.014135339297354221, 0.005007416475564241, -0.00939365103840828, 0.023038947954773903, 0.0218656025826931, -0.011008723638951778, -0.016136925667524338, 0.010960409417748451, 0.02429511398077011, -0.020733671262860298, -0.009752555750310421, -0.007254024501889944, 0.01597127690911293, 0.01659245975315571, -0.044531840831041336, 0.013396822847425938, 0.009938910603523254, -0.01071883924305439, 0.012748033739626408, 0.026807449758052826, -0.04204711318016052, -0.044918354600667953, -0.008151287212967873, 0.0031283411663025618, 0.0026521016843616962, 0.005990954581648111, 0.03647027909755707, -0.018097098916769028, 0.004731335677206516, -0.009973420761525631, 0.00333195086568594, 0.006070327945053577, 0.04524965211749077, -0.0009171060519292951, -0.004030780401080847, 0.0163992028683424, 0.006080680526793003, -0.03539356589317322, -0.025012925267219543, -0.013714316301047802, -0.007902814075350761, -0.005718324799090624, -0.010428953915834427, -0.03266036510467529, -0.006329153664410114, 0.005297301337122917, 0.025081945583224297, -0.009221100248396397, 0.018552633002400398, 0.009152079932391644, 0.015060210600495338, 0.012209675274789333, -0.0031421452295035124, -0.007550811395049095, -0.012975799851119518, -0.015350094996392727, -0.03020324558019638, 0.017227444797754288, 0.026627998799085617, 0.006577626336365938, 0.005835658870637417, -0.0040238783694803715, 0.04916999861598015, 0.0023622168228030205, 0.013735022395849228, -0.014908365905284882, 0.010228795930743217, 0.002101665595546365, 0.0029695946723222733, 0.006301545538008213, 0.006670803762972355, 0.002562375506386161, -0.04199189692735672, -0.0037754056975245476, -0.013258783146739006, 0.005921934265643358, -0.003340578405186534, 0.0012846386525779963, 0.007895912043750286, -0.0164268109947443, 0.007254024501889944, 0.006839903071522713, 0.0013156977947801352, -0.005925385281443596, -0.011885280720889568, -0.02755286917090416, -0.005186868831515312, -0.01594366878271103, 0.006229074206203222, 0.024446958675980568, -1.929060999827925e-05, -0.007564615458250046, -0.029651083052158356, 0.014038710854947567, -0.005245536100119352, 0.03431684896349907, -0.026379525661468506, -0.02472303993999958, -0.0016728774644434452, -0.045387692749500275, 0.00651550805196166, 0.008772469125688076, -0.0016625244170427322, 0.025081945583224297, -0.040114548057317734, -0.01246505044400692, -0.002583081368356943, -0.025427047163248062, -0.01060150470584631, 0.01431479211896658, 0.0081996014341712, -0.021548110991716385, 0.019408483058214188, 0.0018721732776612043, 0.02517857402563095, 0.021064968779683113, -0.015198251232504845, 0.012471952475607395, -0.022859495133161545, 0.03652549535036087, -0.01708940416574478, 0.021506698802113533, -0.006418879609555006, 0.005966797471046448, -0.009966518729925156, 0.0037236404605209827, 0.00035610116901807487, 0.01597127690911293, 0.009911302477121353, 0.001794525538571179, 0.0010387542424723506, 0.00020145274174865335, 0.004417293705046177, -0.024419350549578667, -0.019794996827840805, -0.02929217740893364, 0.03522791713476181, 0.011277902871370316, 0.01797286421060562, 0.01540531124919653, -0.02602062001824379, -0.0024640215560793877, 0.006184211000800133, 0.006260133348405361, -0.0016737401019781828, 0.0032456754706799984, -0.013983495533466339, 0.001904957927763462, -0.020305747166275978, 0.01928424835205078, 0.019298052415251732, -0.003300891723483801, -0.009117569774389267, 0.01644061505794525, -0.00044992551556788385, -0.0009498907020315528, 0.009897498413920403, -0.0393691286444664, 0.01376263052225113, 0.011105352081358433, 0.004489765036851168, 0.01409392710775137, 0.014618481509387493, -0.01136072725057602, 0.014949778094887733, 0.009435063228011131, 0.016937559470534325, -0.012865367345511913, -0.007778577972203493, 0.008565408177673817, 0.016509635373950005, -0.02865719236433506, 0.039948899298906326, 0.006025464739650488, 0.040390629321336746, 0.012892975471913815, -0.01543291937559843, -0.003720189444720745, -0.02555128186941147, -0.0060496218502521515, 0.0034889718517661095, 0.010801663622260094, 0.013093134388327599, 0.0011051861802116036, -0.0136867081746459, 0.007185004185885191, 0.011084645986557007, 0.033129703253507614, -0.0010137343779206276, 0.016054101288318634, 0.022017447277903557, 0.011892182752490044, 0.022583413869142532, -0.00541118485853076, -0.027276787906885147, -0.014259575866162777, -0.028381111100316048, 0.0040135253220796585, -0.023259811103343964, -0.011029429733753204, -0.020706063136458397, -0.012278695590794086, 0.028960881754755974, 0.013175958767533302, -0.0004395724681671709, 0.010573896579444408, 0.018773498013615608, 0.0415225587785244, -0.00199123308993876, -0.03696722537279129, 0.03384751081466675, 0.00338544137775898, 0.005659657530486584, -0.012679013423621655, -0.03829241544008255, 0.003271558089181781, -0.022486785426735878, 0.013921377249062061, 0.007923520170152187, 0.04480792209506035, 0.005628598388284445, -0.0030351639725267887, -0.005852913949638605, 0.03633223846554756, 0.035338349640369415, -0.012768738903105259, 0.01390757318586111, -0.02628289721906185, -0.0031887339428067207, -0.00037443466135300696, 0.010297815315425396, -0.0014304439537227154, 0.030506934970617294, 0.00023725698702037334, 0.004848669748753309, -0.0012915406841784716, -0.03081062249839306, -0.02145148254930973, -0.0034906973596662283, 0.000561220629606396, 0.0031732043717056513, 0.0008894979837350547, 0.018028080463409424, 0.014494244940578938, -0.020305747166275978, -0.006298094522207975, 0.017172228544950485, 0.009621418081223965, -0.0003901798918377608, -0.016882343217730522, -0.003947956021875143, 0.01323807705193758, 0.03677396848797798, 0.010877585969865322, -0.013955887407064438, -0.009869890287518501, -0.028353502973914146, 0.012389128096401691, -0.035586822777986526, 0.016302574425935745, -0.009000236168503761, 0.008862195536494255, -0.039672818034887314, -0.003595953108742833, 0.021575719118118286, -0.001894604880362749, 0.025026729330420494, 0.003599404124543071, -0.011298608966171741, -0.03404076769948006, 0.020830299705266953, -0.017903843894600868, 0.003682228270918131, -0.013348509557545185, -0.025427047163248062, -0.012382226064801216, 0.023798169568181038, -0.016274966299533844, 0.03669114410877228, 0.016233554109930992, -0.01641300693154335, -0.0371880903840065, 0.008841489441692829, -0.009152079932391644, -0.0026779843028634787, 0.008027050644159317, -0.0032957151997834444, 0.023535892367362976, 0.008558506146073341, 0.01659245975315571, 0.010083853267133236, 0.00020619788847398013, 0.0031507727690041065, 0.0185802411288023, -0.004089447669684887, 0.009497181512415409, 0.0003060614981222898, -0.0033578332513570786, -0.0027193964924663305, 0.009745653718709946, -0.006826099008321762, -0.020664650946855545, 0.0012216577306389809, 0.014149143360555172, -0.032246243208646774, -0.004941847175359726, 0.017365485429763794, 0.024833472445607185, -0.0032870876602828503, -0.014018004760146141, 0.004579490981996059, -0.0273734163492918, -0.03266036510467529, -0.024005230516195297, -0.03257754072546959, -0.012113047763705254, -0.021617131307721138, -0.010332325473427773, 0.0014304439537227154, 0.0038513278122991323, -0.013714316301047802, 0.012078537605702877, 0.00305759534239769, -0.01666148006916046, -0.02973390743136406, -0.020236726850271225, 0.001906683435663581, 0.027511456981301308, 0.010725741274654865, -0.019560327753424644, -0.003475167788565159, -0.003043791279196739, 0.006446487735956907, -0.015819432213902473, -0.004683021456003189, -0.009793967939913273, -0.005031573586165905, 0.0016375045524910092, 0.003230145899578929, -0.0057217758148908615, -0.0048659248277544975, -0.016054101288318634, 0.009676633402705193, 0.009966518729925156, 0.003979015164077282, 0.003989368211477995, 0.00016424653586000204, 0.014715109020471573, 0.02252819761633873, 0.0030420657712966204, 0.007619831711053848, -0.024336526170372963, 0.004872826859354973, -0.029871948063373566, -0.0001363149203825742, -0.003114537103101611, 0.011132960207760334, -0.010415149852633476, 0.01128480490297079, 0.02207266353070736, -0.0025917089078575373, -0.0074265748262405396, -0.011761044152081013, 0.004372430499643087, 0.0012846386525779963, -0.004952200222760439, 0.021051164716482162, -0.03166647255420685, 0.0018790753092616796, 0.00705386558547616, -0.010422051884233952, -0.011774848215281963, -0.016054101288318634, -0.018966754898428917, 0.01619214192032814, 0.018317963927984238, -0.00475549278780818, 0.01812470704317093, 0.003230145899578929, 0.001149186515249312, -0.016330182552337646, 0.0027556319255381823, -0.017213640734553337, 0.013769532553851604, -0.02009868621826172, -0.006436134688556194, -0.016302574425935745, -0.014149143360555172, -0.019753584638237953, -0.006698411423712969, -0.005445695016533136, -0.005490557756274939, -0.009338434785604477, 0.006591430399566889, 0.00973875168710947, -0.01267211139202118, -0.012692817486822605, -0.023342635482549667, -0.015225859358906746, 0.02317698672413826, -0.007785480003803968, 0.02865719236433506, -0.0028160247020423412, 0.024584999307990074, -0.03324013575911522, -0.05361489951610565, -0.015584764070808887, -0.006053072866052389, -0.017227444797754288, 0.02164473943412304, 0.02121681347489357, 0.02361871674656868, 0.044062502682209015, -0.013576275669038296, 0.03677396848797798, -0.011981909163296223, 0.007606027647852898, 0.004879728890955448, 0.0327984057366848, -0.007819989696145058, -0.00796493235975504, -0.004772747866809368, 0.0005180829903110862, -0.008475681766867638, 0.020236726850271225, -0.002212097868323326, -0.0009628319530747831, 0.021064968779683113, -0.01157468929886818, -0.004845218732953072, -0.01685473509132862, -0.030230853706598282, -0.018276551738381386, 0.03370947018265724, -0.016261162236332893, 0.019546523690223694, -0.036387454718351364, -0.003692581318318844, 0.028960881754755974, 0.016288770362734795, 0.022155487909913063, 0.0024536685086786747, 0.01811090297996998, 0.00344410864636302, -0.0017039364902302623, 0.01902197115123272, -0.010111461393535137, -0.019988253712654114, 0.00727473059669137, -0.022652434185147285, -0.005449145566672087, 0.012057831510901451, 0.02098214440047741, 0.015322486869990826, -0.0009636947070248425, 0.011878378689289093, -0.007571517489850521, 0.004196429159492254, 0.004527725744992495, -0.019767388701438904, 0.007530105300247669, -0.017199836671352386, -0.021561915054917336, -0.042295586317777634, -0.016882343217730522, -0.029016098007559776, -0.005766638554632664, 0.01617833785712719, -0.019753584638237953, 0.021396266296505928, -0.016578655689954758, -0.01225798949599266, 0.002943712053820491, 0.018221335485577583, 0.05074366182088852, 0.00041282715392298996, 0.024322722107172012, 0.01136072725057602, 0.007488693110644817, -0.008724154904484749, 0.026572782546281815, 0.0034303045831620693, -0.003557991934940219, 0.019408483058214188, 0.016233554109930992, -0.025965403765439987, -0.03172168880701065, 0.008655134588479996, -0.0001081136942957528, -0.008758665062487125, -0.037546996027231216, 0.02360491268336773, -0.00172205432318151, -0.010007930919528008, -0.0034303045831620693, -0.005079887807369232, -0.032273851335048676, 0.008241013623774052, -0.017669174820184708, -0.002624493557959795, 0.007923520170152187, 0.003968662116676569, -0.032025378197431564, 0.008420465514063835, -0.010415149852633476, 0.02669701911509037, 0.0018618202302604914, 0.012382226064801216, 0.006087582558393478, 0.005494008772075176, -0.0016254259971901774, 0.009435063228011131, 0.02730439603328705, 0.012223479337990284, 0.0062566823326051235, 0.002355314791202545, 0.005887424107640982, 0.00025602185633033514, 0.01543291937559843, 0.019643152132630348, 0.0036546203773468733, 0.033350568264722824, -0.033129703253507614, -0.018262747675180435, -0.0009619691991247237, -0.0014951503835618496, 0.026531370356678963, -0.0009041648008860648, -0.012741131708025932, -0.009683535434305668, -0.018069490790367126, -0.001620249473489821, 0.027497652918100357, -0.021782780066132545, -0.0175311341881752, 0.007771675940603018, -0.004938396159559488, 0.0049211410805583, -0.004955651238560677, 0.004458705894649029, 0.013741924427449703, -0.0262138769030571, -0.0049970634281635284, 0.007205710280686617, 0.0028212012257426977, 0.003782307729125023, 7.818696030881256e-05, -0.016012689098715782, 0.01103633176535368, 0.03768503665924072, -0.03172168880701065, -0.011381433345377445, -0.00436897948384285, -0.0021672346629202366, -0.02056802250444889, -0.01157468929886818, -0.010021734982728958, -0.007868303917348385, 0.0012371873017400503, -0.017337877303361893, 0.008275523781776428, -0.018911538645625114, -0.015294878743588924, 0.008033952675759792, 0.0016771911177784204, 0.0038823869545012712, 0.005335262510925531, -0.010097657330334187, 0.009517887607216835, -0.0074472809210419655, -0.00048227873048745096, 0.007502497173845768, 0.006315349601209164, -0.012989603914320469, 0.027470044791698456, -0.012119949795305729, 0.010794761590659618, -0.011885280720889568, 0.009552397765219212, 0.00715739605948329, -0.025854971259832382, -0.017213640734553337, 0.007985638454556465, 0.020057274028658867, 0.01203022338449955, -0.011623003520071507, -0.005873620044440031, 0.003064497373998165, -0.03263275697827339, 0.018317963927984238, 0.009925106540322304, -0.021092576906085014, 0.008020148612558842, 0.025275202468037605, 0.01259618904441595, -0.02381197363138199, -0.00524898711591959, -0.018745889887213707, -0.029595866799354553, 0.0018152316333726048, -0.029789123684167862, 0.004365528468042612, 0.005376674700528383, 0.01543291937559843, 0.023107966408133507, -0.05378054827451706, -0.037546996027231216, -0.00426544900983572, -0.03254993259906769, -0.0022172743920236826, -0.01434240024536848, -0.00035566979204304516, 0.01278254296630621, 0.026075836271047592, 0.008040854707360268, 0.026641802862286568, 0.0052834972739219666, -0.0021085673943161964, -0.017006579786539078, 0.0033146957866847515, -0.013403724879026413, -0.018759693950414658, -0.028519151732325554, 0.024805864319205284, -0.00898643210530281, -0.006042719818651676, -0.0185802411288023, -0.0008489486062899232, 0.0035148542374372482, 0.037740252912044525, 0.005766638554632664, -0.024391742423176765, -0.0017418976640328765, 0.013010310009121895, -0.0019860565662384033, 0.020222922787070274, 0.010546288453042507, -0.021161597222089767, -0.0017772704595699906, -0.0005172202363610268, -0.0022569610737264156, -0.010739545337855816, -0.006587979383766651, -0.005638951435685158, -0.0008813018212094903, -0.0023035495541989803, -0.02577214688062668, 0.0024830021429806948, -0.012382226064801216, -0.011443551629781723, 0.031804513186216354, -0.010787859559059143, -0.009676633402705193, 0.014963582158088684, 0.02031955122947693, 0.005224830005317926, 0.0015891904477030039, 0.015074014663696289, 0.004289606120437384, -0.013969691470265388, 0.0017548388568684459, -0.016509635373950005, -0.01987782120704651, -0.03210820257663727, 0.012223479337990284, -0.02708353102207184, -0.012934387661516666, 0.015350094996392727, 0.008993334136903286, -0.01182316243648529, 0.008668938651680946, 0.004714080598205328, -0.02141007035970688, 0.010346129536628723, -0.02581355907022953, -0.00623252522200346, -0.031169528141617775, -0.021120185032486916, 0.006015111692249775, -0.008503289893269539, -0.013679806143045425, 0.007074571680277586, -0.0030834779608994722, -0.024350330233573914, 0.0174759179353714, 0.030921055004000664, -0.011836966499686241, 0.025040533393621445, 0.19160011410713196, -0.03586290404200554, -0.011988811194896698, 0.006822647992521524, -0.009255610406398773, 0.009207296185195446, 0.005269693210721016, -0.008234111592173576, -0.00972494762390852, 0.007902814075350761, 0.009117569774389267, 0.015322486869990826, -0.004948749206960201, -0.011471159756183624, 0.003311244770884514, -0.025716930627822876, -0.03194255381822586, -0.008627526462078094, -0.019781192764639854, -0.01878730207681656, -0.0031404197216033936, -0.015350094996392727, -0.019960645586252213, -0.019325658679008484, 0.012382226064801216, 0.005952993407845497, -0.018649261444807053, 0.0013709139311686158, 0.006539665162563324, 0.034896619617938995, -0.010925899259746075, 0.012734229676425457, 0.022155487909913063, 0.003606306156143546, -0.010863781906664371, -0.018428396433591843, 0.020871711894869804, 0.011981909163296223, 0.04218515381217003, 0.004831414669752121, 0.03564203903079033, -0.0030248109251260757, 0.01682712696492672, -0.0013950710417702794, -0.005980601534247398, 0.025440851226449013, -0.026172464713454247, -0.015474331565201283, 0.01987782120704651, 0.023742953315377235, -0.0014968758914619684, -0.014963582158088684, 0.021976035088300705, 0.005235183052718639, -0.0018721732776612043, 0.00541118485853076, 0.003892740001901984, 0.018994363024830818, 0.038816966116428375, 0.0218656025826931, -0.00951098557561636, 0.019781192764639854, 0.0033060682471841574, 0.012423638254404068, -0.012161361053586006, -0.0033492057118564844, -0.02146528661251068, -0.0013062075013294816, 0.004693374503403902, 0.012389128096401691, 0.008827685378491879, -0.005235183052718639, 0.0021655091550201178, -0.006760529708117247, -0.03914826363325119, -0.029236963018774986, 0.039893683046102524, 0.01278254296630621, 0.02102355659008026, 0.029043706133961678, -3.890475272783078e-05, 0.000819615030195564, 0.008020148612558842, 0.0002998065610881895, -0.04047345370054245, -0.051958415657281876, 0.006070327945053577, -0.02014009840786457, -0.019160011783242226, -0.004800355993211269, 0.002904025372117758, -0.012119949795305729, 0.0025882578920572996, -0.00432411627843976, 0.001980880042538047, 0.000402474106522277, 0.010753349401056767, 0.007716459687799215, -0.003288813168182969, -0.016136925667524338, -0.023246007040143013, 0.024239899590611458, 0.03851328045129776, 0.006018562708050013, -0.01659245975315571, 0.01401110365986824, -0.010711937211453915, -0.003124890150502324, 0.009862988255918026, -0.0013001682236790657, -0.020167706534266472, -0.04041823744773865, 0.005159260705113411, -0.008385956287384033, -0.015212055295705795, 0.003865131875500083, 0.021092576906085014, 0.0024933551903814077, 0.020402375608682632, -0.005014318507164717, -0.03832002356648445, 0.0017453486798331141, 0.010028637014329433, 0.0009559299214743078, 0.005656206514686346, -0.0240328386425972, -0.03381990268826485, 0.0021189204417169094, -0.009676633402705193, -0.011395237408578396, 0.02840871922671795, 0.0015572685515508056, -0.0015322486869990826, 0.010774055495858192, -0.00672601955011487, 0.01660626381635666, 0.0066742547787725925, 0.003259479533880949, -0.01486695371568203, 0.0031594003085047007, 0.02755286917090416, 0.006011660676449537, 0.0006168681429699063, -0.008965726010501385, 0.005380125716328621, -0.015143034979701042, 0.007819989696145058, 0.009586907923221588, -0.012892975471913815, -0.018055688589811325, -0.034648146480321884, 0.014991190284490585, -0.00398246617987752, -0.009938910603523254, 0.013307097367942333, 0.011105352081358433, -0.0030731249134987593, -0.027000706642866135, -0.009193492121994495, -0.012658307328820229, -0.05596159026026726, 0.004513922147452831, -0.008165091276168823, -0.007364456541836262, -0.0328812301158905, -0.013293293304741383, -0.17812736332416534, 0.00453462777659297, 0.012609993107616901, -0.06294643133878708, -0.010587700642645359, -0.0007005551597103477, 0.017103208228945732, -0.023080358281731606, -0.0005482793203555048, -0.024985317140817642, 0.019173815846443176, 0.0030921055004000664, -0.027870362624526024, -0.001112088211812079, -0.009483377449214458, 0.03230145946145058, -0.0019360169535502791, -0.008275523781776428, 0.039231088012456894, 0.010546288453042507, 0.031141920015215874, -0.039037831127643585, 0.008979530073702335, 0.013534863479435444, -0.0018687222618609667, 0.002315628109499812, 0.0035821490455418825, 0.028519151732325554, 0.0035821490455418825, -0.025054337456822395, -0.004213683772832155, -0.014149143360555172, 0.03550399839878082, -0.0027953186072409153, 0.009352238848805428, 0.01456326525658369, 0.04729264974594116, -0.0136867081746459, -0.0093039246276021, 0.019808800891041756, 0.0349518358707428, 0.0030800269450992346, -0.007288534659892321, -0.002921280451118946, -0.007737165782600641, 0.007944226264953613, 0.030148029327392578, 0.0025364928878843784, 0.027704713866114616, -0.003909994848072529, 0.002305275062099099, -0.02145148254930973, -0.003965211100876331, -0.008441171608865261, 0.02102355659008026, 0.027649497613310814, 0.007930422201752663, 0.016702892258763313, 0.00833074003458023, -0.02342545986175537, 0.011181274428963661, -0.028091225773096085, -0.0007199671235866845, -0.02907131426036358, -0.011201980523765087, -0.01573660783469677, -0.02709733508527279, 0.015570960007607937, -0.012499560602009296, 0.014245771802961826, -0.011712729930877686, 0.0207612793892622, -0.01746211387217045, 0.007688851561397314, 0.0017910745227709413, 0.025896383449435234, -0.020471395924687386, 0.01431479211896658, 0.010056245140731335, -0.005266242194920778, -0.02560649812221527, 0.03437206521630287, -0.0011802456574514508, 0.007530105300247669, -8.864783740136772e-05, 0.001967075979337096, 0.0012993054697290063, 0.019118599593639374, -0.04284774884581566, -0.006605234462767839, 0.009552397765219212, -0.031003879383206367, -0.006653548683971167, -0.010905193164944649, 0.007626733742654324, 0.018028080463409424, 0.010525582358241081, -0.013610785827040672, 0.02628289721906185, -0.009179688058793545, -0.014080123044550419, 0.007702655624598265, 0.011968105100095272, 0.018304159864783287, 0.03307448700070381, 0.005935738328844309, -0.020954536274075508, -0.010353031568229198, 0.04113604500889778, -0.03417880833148956, 0.007916618138551712, -0.015363899059593678, -0.006436134688556194, 0.010960409417748451, -0.014577069319784641, 0.03020324558019638, -0.011954301036894321, -0.0071297879330813885, 0.0163715947419405, 0.010173579677939415, 0.03691200911998749, -0.0007773401448503137, -0.012064733542501926, 0.030700189992785454, -0.01726885698735714, -0.019767388701438904, -0.0964074358344078, -0.010532484389841557, 0.022638630121946335, 0.01598508097231388, -0.02252819761633873, 0.025509871542453766, 0.004513922147452831, 0.041412126272916794, -0.03613898158073425, 0.006833001039922237, -0.01834557205438614, -0.03351621702313423, -0.004655413329601288, -0.006415428593754768, -0.016468223184347153, 0.0008761252975091338, -0.009925106540322304, 0.005355968605726957, -0.018690673634409904, 0.02470923587679863, -0.006342957727611065, 0.003371637314558029, 0.03105909563601017, -0.016896147280931473, 0.006715666502714157, 0.013624589890241623, -0.025496067479252815, 0.010366835631430149, 0.008558506146073341, 0.0007014179136604071, 0.008137483149766922, -0.03257754072546959, -7.651537453057244e-05, -0.015667587518692017, 0.0018480161670595407, -0.0038582298438996077, -0.008551604114472866, -0.012623797170817852, 0.022390156984329224, -0.025206182152032852, 0.01772439107298851, -0.014149143360555172, -0.0012440893333405256, -0.012851563282310963, -0.013873063027858734, 0.0072195143438875675, -0.016261162236332893, 0.01726885698735714, -0.016330182552337646, -0.02054041624069214, -0.032273851335048676, -0.005069534759968519, -0.024874884635210037, 0.007281632628291845, 0.022403961047530174, 0.011623003520071507, 0.028574367985129356, -0.015129230916500092, 0.002307000569999218, -0.017572546377778053, -0.018304159864783287, -0.00831693597137928, -0.03892739862203598, 0.0007061630603857338, -0.0017522505950182676, 0.010042441077530384, -0.04224037006497383, -0.013548667542636395, -0.008068462833762169, 0.011188176460564137, -0.008434269577264786, 0.004048035480082035, 0.004686472471803427, 0.028063617646694183, -0.010408247821033001, 0.0014692677650600672, -0.006839903071522713, -0.033985551446676254, 0.020457591861486435, -0.01725505292415619, -0.020305747166275978, -0.017586350440979004, -0.00040959182661026716, -0.01856643706560135, 0.005059181712567806, 0.0018566437065601349, -0.015350094996392727, 0.0016323280287906528, -0.01454946119338274, -0.03473097085952759, -0.009007138200104237, 0.009711143560707569, 0.002828103257343173, -0.03232906758785248, -0.017572546377778053, -0.00972494762390852, -0.006808843929320574, 0.004993612412363291, 0.00898643210530281, 0.003961760085076094, -0.02541324310004711, 0.0010033813305199146, -0.04872826859354973, 0.019422287121415138, 0.003454461693763733, -0.011409041471779346, -0.0021465285681188107, -0.027290591970086098, 0.018469808623194695, -0.010525582358241081, 0.006967590656131506, 0.019850213080644608, 0.0002762965450529009, 0.012002615258097649, -0.005152358673512936, 0.009034745395183563, 0.006653548683971167, -0.01795906014740467, 0.04547051712870598, 0.008599918335676193, 0.01811090297996998, 0.004707178566604853, -0.006964139640331268, 0.006660450715571642, 0.01576421596109867, 0.006073778495192528, 0.003000653814524412, 0.0005642402684316039, -0.019587935879826546, 0.018856322392821312, -0.013403724879026413, -0.019380874931812286, 0.005456047598272562, -0.027428632602095604, -0.007102179806679487, 0.024584999307990074, 0.020305747166275978, -0.0009171060519292951, 0.03321252763271332, 0.010104559361934662, 0.03362664952874184, 0.009890596382319927, -0.03197016194462776, -0.04776198789477348, 0.0103806396946311, -0.010159775614738464, -0.023301223292946815, -0.004796904977411032, -0.0028350052889436483, 0.0017565643647685647, 0.020167706534266472, 0.015446723438799381, 0.018028080463409424, 0.016316378489136696, -0.027663301676511765, -0.024543587118387222, -0.006715666502714157, -0.008724154904484749, 0.030092813074588776, 0.0055216168984770775, 0.009158981963992119, 0.008731056936085224, 0.0590813010931015, 0.01769678294658661, 0.01070503517985344, -0.00420678174123168, 0.00942125916481018, 0.009745653718709946, -0.004085996653884649, 0.008310033939778805, 0.020057274028658867, -0.011650611646473408, -0.01702038384974003, -0.006432683672755957, 0.0006686333217658103, -0.012057831510901451, 0.01834557205438614, -0.011077743954956532, 0.004838316701352596, -0.0033992454409599304, -0.024322722107172012, 0.03674636036157608, 0.014087025076150894, -0.018552633002400398, -0.009103765711188316, 0.007606027647852898, 0.023729149252176285, 0.03412359207868576, 0.013127644546329975, 0.005362870637327433, -0.009566201828420162, -0.01279634702950716, -0.015129230916500092, 0.0031024585478007793, 0.005811501760035753, 0.01323807705193758, 0.013500353321433067, 0.000547847943380475, 0.013514157384634018, 0.00656037125736475, 0.022873299196362495, 0.005618245340883732, 0.03978325054049492, -0.004917690064758062, 0.004448352847248316, -0.039893683046102524, -0.015488135628402233, 0.0026072384789586067, -0.0109189972281456, -0.017821019515395164, 0.018911538645625114, 0.006608685478568077, 0.01880110614001751, 0.004424195736646652, -0.04417293518781662, 0.004631256218999624, -0.015805628150701523, 0.02120300941169262, 0.006646646652370691, -0.01771058700978756, -0.034454889595508575, 0.020899320021271706, 0.005114397965371609, -0.002308726077899337, 0.019132403656840324, -0.015281074680387974, 0.032715581357479095, 0.006063425913453102, 0.010780957527458668, -0.001045656274072826, 0.02798079513013363, -0.010774055495858192, 0.0027625339571386576, -0.01259618904441595, -0.015681391581892967, 0.0024450409691780806, -0.024612607434391975, -0.005359419621527195, -0.02668321505188942, 0.013334705494344234, -0.012775640934705734, 0.0678606703877449, 0.015667587518692017, -0.0031110860873013735, 0.01127100083976984, -0.01775199919939041, 0.015267270617187023, 0.029485434293746948, 0.018083294853568077, -0.03243950009346008, -0.010442757979035378, -0.002714219968765974, 0.00143820873927325, -0.009483377449214458, -0.024805864319205284, -0.01376263052225113, 0.002181038726121187, 0.007909716106951237, 0.018911538645625114, -0.0006936531281098723, 0.011498767882585526, 0.026973098516464233, 0.028767624869942665, 0.036166589707136154, 0.01103633176535368, -0.02359110862016678, 0.005169613752514124, 0.019532719627022743, -0.013590079732239246, -0.004424195736646652, -0.026531370356678963, 0.020443787798285484, 0.002726298291236162, -0.0393139123916626, -0.023315027356147766, 0.0018273101886734366, 0.014162947423756123, 0.006732921581715345, -0.0005538872210308909, 0.0072195143438875675, 0.017655370756983757, 0.016288770362734795, 0.03150082379579544, -0.027262983843684196, -0.014176751486957073, -0.007015904411673546, 0.006646646652370691, -0.010208089835941792, -0.01835937611758709, -0.03680157661437988], index=0, object='embedding')], model='text-embedding-ada-002', object='list', usage=Usage(prompt_tokens=12, total_tokens=12))"
      ]
     },
     "execution_count": 52,
     "metadata": {},
     "output_type": "execute_result"
    }
   ],
   "source": [
    "response = client.embeddings.create(\n",
    "    model = \"text-embedding-ada-002\",\n",
    "    input = \"This is an example of creating embeddings using OpenAI API.\",\n",
    ")\n",
    "\n",
    "response"
   ]
  },
  {
   "cell_type": "code",
   "execution_count": 53,
   "id": "0fde0b3a-f245-4a02-b7a4-4a1b48241012",
   "metadata": {},
   "outputs": [
    {
     "name": "stdout",
     "output_type": "stream",
     "text": [
      "1536\n"
     ]
    }
   ],
   "source": [
    "print(len(response.data[0].embedding))"
   ]
  }
 ],
 "metadata": {
  "kernelspec": {
   "display_name": "Python 3 (ipykernel)",
   "language": "python",
   "name": "python3"
  },
  "language_info": {
   "codemirror_mode": {
    "name": "ipython",
    "version": 3
   },
   "file_extension": ".py",
   "mimetype": "text/x-python",
   "name": "python",
   "nbconvert_exporter": "python",
   "pygments_lexer": "ipython3",
   "version": "3.11.4"
  }
 },
 "nbformat": 4,
 "nbformat_minor": 5
}
